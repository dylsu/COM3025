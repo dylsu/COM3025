{
  "nbformat": 4,
  "nbformat_minor": 0,
  "metadata": {
    "kernelspec": {
      "name": "python3",
      "display_name": "Python 3"
    },
    "colab": {
      "name": "COM3025.ipynb",
      "provenance": [],
      "collapsed_sections": [],
      "toc_visible": true
    }
  },
  "cells": [
    {
      "cell_type": "markdown",
      "metadata": {
        "id": "ZGoxtf3yFBAF",
        "colab_type": "text"
      },
      "source": [
        "# COM3025 Coursework"
      ]
    },
    {
      "cell_type": "markdown",
      "metadata": {
        "id": "4UZ0SYiaaZOg",
        "colab_type": "text"
      },
      "source": [
        "## Import Dataset"
      ]
    },
    {
      "cell_type": "code",
      "metadata": {
        "scrolled": true,
        "id": "SKZoG3LgxZbp",
        "colab_type": "code",
        "outputId": "68393ac7-89e8-4234-9f19-08d17e7598b7",
        "colab": {
          "base_uri": "https://localhost:8080/",
          "height": 34
        }
      },
      "source": [
        "import h5py\n",
        "import os\n",
        "import numpy as np\n",
        "from IPython.display import HTML, display\n",
        "\n",
        "# This is for displaying the progress bar while importing data\n",
        "def progress(value, max=100):\n",
        "    return HTML(\"\"\"\n",
        "        Importing Files:\n",
        "        <progress\n",
        "            value='{value}'\n",
        "            max='{max}',\n",
        "            style='width: 50%'\n",
        "        >\n",
        "            {value}\n",
        "        </progress>\n",
        "    \"\"\".format(value=value, max=max))\n",
        "\n",
        "# Clone dataset if not already done\n",
        "![[ -d COM3025 ]] || git clone https://github.com/jw01324/COM3025.git\n",
        "directory = \"./COM3025/Brain Tumor Dataset/Files/\"\n",
        "numberOfFiles = len(os.listdir(directory))\n",
        "\n",
        "# Create dataset arrays\n",
        "# Look at README for data structure\n",
        "labels = np.empty((numberOfFiles,), float)\n",
        "images = np.empty((numberOfFiles, 512,512), int) # Not all images the same size, some are (256 256) need to decide how to handle this\n",
        "tumorBorders = np.empty((numberOfFiles, ), dtype=object)\n",
        "\n",
        "# Start showing progress bar\n",
        "out = display(progress(0, numberOfFiles), display_id=True)\n",
        "\n",
        "for i,filename in enumerate(os.listdir(directory)):\n",
        "  # Update progress bar\n",
        "  out.update(progress(i, numberOfFiles))\n",
        "  \n",
        "  with h5py.File(directory + filename, 'r') as file:\n",
        "    labels[i] = file['cjdata']['label'][()][0][0]\n",
        "    images[i] = file['cjdata']['image'][()]\n",
        "    tumorBorders[i] = file['cjdata']['tumorBorder'][()][0]"
      ],
      "execution_count": 17,
      "outputs": [
        {
          "output_type": "display_data",
          "data": {
            "text/html": [
              "\n",
              "        Importing Files:\n",
              "        <progress\n",
              "            value='3063'\n",
              "            max='3064',\n",
              "            style='width: 50%'\n",
              "        >\n",
              "            3063\n",
              "        </progress>\n",
              "    "
            ],
            "text/plain": [
              "<IPython.core.display.HTML object>"
            ]
          },
          "metadata": {
            "tags": []
          }
        }
      ]
    }
  ]
}